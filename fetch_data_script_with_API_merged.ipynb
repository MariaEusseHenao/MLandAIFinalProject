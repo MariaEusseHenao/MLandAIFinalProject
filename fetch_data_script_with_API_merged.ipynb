{
 "cells": [
  {
   "cell_type": "markdown",
   "metadata": {},
   "source": [
    "Fetching data from marketaux API (https://www.marketaux.com/documentation)\n",
    "\n",
    "\n",
    "-Change or add to the stock_symbols variable to find news of specific companies"
   ]
  },
  {
   "cell_type": "code",
   "execution_count": 1,
   "metadata": {},
   "outputs": [
    {
     "name": "stdout",
     "output_type": "stream",
     "text": [
      "Data saved successfully to /Users/mariaeusse/MEH/Clases/Fall-2023/Ds-ML/Final_Project/Model_US/API-data/new_data.json\n",
      "{'meta': {'found': 496723, 'returned': 3, 'limit': 3, 'page': 1}, 'data': [{'uuid': 'a675c3d6-08fe-4253-bde9-285c29a05442', 'title': '13 Best Nancy Pelosi Stocks To Buy Now', 'description': 'In this article, we will take a look at the 13 best Nancy Pelosi stocks to buy now. To see more such companies, go directly to 5 Best Nancy Pelosi Stocks To Buy Now. The US economy and consumer sentiment remained unexpectedly strong throughout 2023. When the year started there were incessant warnings about recession […]', 'keywords': '', 'snippet': 'In this article, we will take a look at the 13 best Nancy Pelosi stocks to buy now. To see more such companies, go directly to 5 Best Nancy Pelosi Stocks To Buy...', 'url': 'https://finance.yahoo.com/news/13-best-nancy-pelosi-stocks-170829694.html?.tsrc=rss', 'image_url': 'https://media.zenfs.com/en/insidermonkey.com/72675c9e3c0781687ef19be558054e05', 'language': 'en', 'published_at': '2023-11-27T17:08:29.000000Z', 'source': 'finance.yahoo.com', 'relevance_score': None, 'entities': [{'symbol': 'PYPL', 'name': 'PayPal Holdings, Inc.', 'exchange': None, 'exchange_long': None, 'country': 'us', 'type': 'equity', 'industry': 'Financial Services', 'match_score': 48.809883, 'sentiment_score': -0.267767, 'highlights': [{'highlight': '<em>Paypal</em> <em>Holdings</em> <em>Inc</em>. (<em>NASDAQ</em>: <em>PYPL</em>\\n\\nNumber of Hedge Fund Holders: 86\\n\\n<em>Paypal</em> <em>Holdings</em> <em>Inc</em>. (<em>NASDAQ:PYPL</em>) is another famous name that made its way to Nany Pelosi stock portfolio last year when her spouse exercised 50 call options (5,000 PYPL shares) expiring 1/21/22 at a strike price of $100.', 'sentiment': -0.4215, 'highlighted_in': 'main_text'}, {'highlight': 'As of the end of the second quarter of 2023, 86 hedge funds tracked by Insider Monkey reported having stakes in <em>Paypal</em> <em>Holdings</em> <em>Inc</em>. (<em>NASDAQ:PYPL</em>). The biggest stakeholder of <em>Paypal</em> <em>Holdings</em> <em>Inc</em>. (<em>NASDAQ:PYPL</em>) was John Overdeck and David Siegel’s Two Sigma Advisors which owns a $381 million stake in the company.', 'sentiment': -0.3818, 'highlighted_in': 'main_text'}, {'highlight': 'Wedgewood Partners made the following comment about <em>PayPal</em> <em>Holdings</em>, <em>Inc</em>. (<em>NASDAQ:PYPL</em>) in its Q3 2023 investor letter:\\n\\n“<em>PayPal</em> <em>Holdings</em>, <em>Inc</em>. (<em>NASDAQ:PYPL</em>) was a detractor from performance during the quarter. Total payment volume grew +11% while revenues grew +8% – both FX-neutral. Adjusted operating earnings grew +20%.', 'sentiment': 0, 'highlighted_in': 'main_text'}]}, {'symbol': 'TSLA', 'name': 'Tesla, Inc.', 'exchange': None, 'exchange_long': None, 'country': 'us', 'type': 'equity', 'industry': 'Consumer Cyclical', 'match_score': 21.627123, 'sentiment_score': 0.3062, 'highlights': [{'highlight': 'Number of Hedge Fund Holders: 79\\n\\n<em>Tesla</em> <em>Inc</em>. (<em>NASDAQ:TSLA</em>) ranks 10th in our list of the best Nancy Pelosi stocks to buy now. Back in March 2022, Nancy Pelosi’s husband Paul Pelosi exercised 25 call options (2,500 TSLA shares) expiring 3/18/22 at a strike price of $500.', 'sentiment': 0.6124, 'highlighted_in': 'main_text'}, {'highlight': 'As of the end of the second quarter of 2023, 79 hedge funds tracked by Insider Monkey reported having stakes in <em>Tesla</em> <em>Inc</em>. (<em>NASDAQ:TSLA</em>). The biggest stakeholder of <em>Tesla</em> <em>Inc</em>. (<em>NASDAQ:TSLA</em>) during this period was Catherine D. Wood’s ARK Investment Management which owns a $1.3 billion stake in the company.\\n\\n9. Paypal Holdings Inc.', 'sentiment': 0, 'highlighted_in': 'main_text'}]}, {'symbol': 'AXP', 'name': 'American Express Company', 'exchange': None, 'exchange_long': None, 'country': 'us', 'type': 'equity', 'industry': 'Financial Services', 'match_score': 35.889114, 'sentiment_score': 0.4971, 'highlights': [{'highlight': '<em>American</em> <em>Express</em> <em>Company</em> (<em>NYSE</em>: <em>AXP</em>\\n\\nNumber of Hedge Fund Holders: 73\\n\\n<em>American</em> <em>Express</em> ranks 11th in our list of the best Nancy Pelosi stocks to invest in now. In January last year, Paul Pelosi exercised 50 call options (5,000 AXP shares) expiring 1/21/22 at a strike price of $80 stock.', 'sentiment': 0.6124, 'highlighted_in': 'main_text'}, {'highlight': 'ClearBridge Large Cap Value Strategy made the following comment about <em>American</em> <em>Express</em> <em>Company</em> (<em>NYSE:AXP</em>) in its Q3 2023 investor letter:\\n\\n“Other detractors included <em>American</em> <em>Express</em> <em>Company</em> (<em>NYSE:AXP</em>), which fell on concerns over slower consumer spending and rising charge-offs, as well as wireless tower REIT American Tower, which was pressured by the', 'sentiment': 0.3818, 'highlighted_in': 'main_text'}]}, {'symbol': 'DIS', 'name': 'The Walt Disney Company', 'exchange': None, 'exchange_long': None, 'country': 'us', 'type': 'equity', 'industry': 'Communication Services', 'match_score': 60.515083, 'sentiment_score': 0.06404, 'highlights': [{'highlight': '<em>The</em> <em>Walt</em> <em>Disney</em> <em>Company</em> (<em>NYSE</em>: <em>DIS</em>\\n\\nNumber of Hedge Fund Holders: 92\\n\\n<em>The</em> <em>Walt</em> <em>Disney</em> <em>Company</em> (<em>NYSE:DIS</em>) shares shot up recently after the company posted fiscal fourth quarter results which lifted investors’ hopes that Bob Iger’s charm might finally be working as the company successfully cut costs and began to see hope in business.', 'sentiment': 0.9001, 'highlighted_in': 'main_text'}, {'highlight': '<em>The</em> <em>Walt</em> <em>Disney</em> <em>Company</em> (<em>NYSE:DIS</em>) stock was trading at around $88.2 as of November 12, having lost about 6.37% over the past one year.\\n\\nAs of the end of the second quarter of 2023, 92 hedge funds tracked by Insider Monkey had stakes in <em>The</em> <em>Walt</em> <em>Disney</em> <em>Company</em> (<em>NYSE:DIS</em>).', 'sentiment': -0.3182, 'highlighted_in': 'main_text'}, {'highlight': 'The biggest stakeholder of <em>The</em> <em>Walt</em> <em>Disney</em> <em>Company</em> (<em>NYSE:DIS</em>) was Nelson Peltz’s Trian Partners which owns a $574 million stake in the company.', 'sentiment': 0, 'highlighted_in': 'main_text'}, {'highlight': 'Madison Sustainable Equity Fund made the following comment about <em>The</em> <em>Walt</em> <em>Disney</em> <em>Company</em> (<em>NYSE:DIS</em>) in its Q3 2023 investor letter:\\n\\n“During the quarter, we sold our positions in Bristol-Myers Squibb and <em>The</em> <em>Walt</em> <em>Disney</em> <em>Company</em> (<em>NYSE:DIS</em>).', 'sentiment': 0, 'highlighted_in': 'main_text'}, {'highlight': '<em>The</em> <em>Walt</em> <em>Disney</em> <em>Company</em> is facing a difficult and uncertain transition in its core media business assets including the ESPN business and other linear media assets. These media assets are cash generative but face secular decline as consumers are cutting their expensive cable subscriptions and moving to alternative streaming options.', 'sentiment': -0.2617, 'highlighted_in': 'main_text'}]}], 'similar': []}, {'uuid': '4e4521ff-2e47-416e-8617-81678485ec10', 'title': \"Pro Research: Wall Street dives into Enphase Energy's solar dynamics By Investing.com\", 'description': \"Pro Research: Wall Street dives into Enphase Energy's solar dynamics\", 'keywords': '', 'snippet': 'Published Nov 27, 2023 12:05PM ET\\n\\n© Reuters.\\n\\nENPH -1.59% Add to/Remove from Watchlist\\n\\nProResearch offers comprehensive research analysis based on insights f...', 'url': 'https://www.investing.com/news/stock-market-news/pro-research-wall-street-dives-into-enphase-energys-solar-dynamics-93CH-3244064', 'image_url': 'https://i-invdn-com.investing.com/news/LYNXNPEAAR0ZC_L.jpg', 'language': 'en', 'published_at': '2023-11-27T17:05:42.000000Z', 'source': 'investing.com', 'relevance_score': None, 'entities': [{'symbol': 'TSLA', 'name': 'Tesla, Inc.', 'exchange': None, 'exchange_long': None, 'country': 'us', 'type': 'equity', 'industry': 'Consumer Cyclical', 'match_score': 17.315956, 'sentiment_score': 0.31, 'highlights': [{'highlight': \"Despite these challenges, the company has not seen a significant impact on its market share from competitors like <em>Tesla</em> (NASDAQ: ), which leads in batteries but has not materially affected Enphase's inverter product.\", 'sentiment': 0.3512, 'highlighted_in': 'main_text'}, {'highlight': \"Competitive Landscape\\n\\nEnphase's competition includes <em>Tesla</em> (<em>NASDAQ:TSLA</em>), which has recently pushed into the inverter market. However, Enphase has maintained its margins and pricing despite these pressures.\", 'sentiment': 0.2688, 'highlighted_in': 'main_text'}]}], 'similar': [{'uuid': 'b08f7a42-31ee-461f-a98c-1a501009366d', 'title': \"Pro Research: Wall Street dives into Netflix's growth levers By Investing.com\", 'description': \"Pro Research: Wall Street dives into Netflix's growth levers\", 'keywords': '', 'snippet': 'Published Nov 27, 2023 08:33AM ET\\n\\n© Reuters\\n\\nNFLX +0.33% Add to/Remove from Watchlist\\n\\nProResearch offers comprehensive research analysis based on insights fr...', 'url': 'https://www.investing.com/news/stock-market-news/pro-research-wall-street-dives-into-netflixs-growth-levers-93CH-3243840', 'image_url': 'https://i-invdn-com.investing.com/news/WallStreet_800x533_L_1631607345.jpg', 'language': 'en', 'published_at': '2023-11-27T13:33:04.000000Z', 'source': 'investing.com', 'relevance_score': None, 'entities': [{'symbol': 'NFLX.MX', 'name': 'Netflix, Inc.', 'exchange': None, 'exchange_long': None, 'country': 'mx', 'type': 'equity', 'industry': 'Communication Services', 'match_score': 17.503162, 'sentiment_score': 0.43115, 'highlights': [{'highlight': 'As the streaming industry continues to evolve, <em>Netflix</em> <em>Inc</em>. (NASDAQ: ) remains a subject of intense scrutiny among Wall Street analysts. The company, known for its vast library of TV shows, movies, anime, documentaries, and more, is navigating a landscape marked by shifting consumer preferences and intensifying competition.', 'sentiment': 0.0772, 'highlighted_in': 'main_text'}, {'highlight': 'Regulatory Environments and Customer Base\\n\\nRegulatory challenges vary by region, but <em>Netflix</em> has managed to navigate these with relative success. Its customer base is diverse, spanning across different demographics, which is a testament to the broad appeal of its content offerings.', 'sentiment': 0.7351, 'highlighted_in': 'main_text'}, {'highlight': 'Potential Impacts of External Factors\\n\\nExternal factors such as the Hollywood strikes have been seen as negative for <em>Netflix</em>, but less so compared to other streamers and studios.', 'sentiment': -0.4767, 'highlighted_in': 'main_text'}, {'highlight': \"Upcoming Product Launches\\n\\n<em>Netflix</em> continues to innovate with new product launches. The introduction of ad-supported tiers and initiatives to monetize password sharing are seen as major growth drivers. The company's content slate remains strong, with significant titles set for release despite talent strikes.\", 'sentiment': 0.912, 'highlighted_in': 'main_text'}, {'highlight': \"InvestingPro Insights\\n\\n<em>Netflix</em> <em>Inc</em>. (NASDAQ:NFLX) continues to capture the attention of investors and analysts alike as it maneuvers through the dynamic streaming landscape. With a market capitalization of $209.89 billion, the company's financial metrics and stock performance offer a deeper insight into its current valuation and future prospects.\", 'sentiment': 0.5859, 'highlighted_in': 'main_text'}, {'highlight': \"Firstly, <em>Netflix</em> yields a high return on invested capital, which is a testament to its efficient allocation of financial resources. Secondly, with 14 analysts having revised their earnings upwards for the upcoming period, there's a consensus that the company's financial performance may surpass previous expectations.\", 'sentiment': 0.4215, 'highlighted_in': 'main_text'}, {'highlight': \"For those looking to dive deeper into the analytics and potential of <em>Netflix</em>, InvestingPro offers a comprehensive suite of additional tips. Currently, there are 21 more tips available on the platform, providing a more nuanced understanding of the company's financial health and market position.\", 'sentiment': 0.25, 'highlighted_in': 'main_text'}, {'highlight': 'This is an opportune time to access detailed analytics and tips that could shape investment strategies around a high-profile company like <em>Netflix</em>.\\n\\nWith a strong presence in the entertainment industry and a commitment to high returns on book equity, <em>Netflix</em> continues to be a prominent player worth monitoring closely.', 'sentiment': 0.9442, 'highlighted_in': 'main_text'}]}, {'symbol': 'CMCSA', 'name': 'Comcast Corporation', 'exchange': None, 'exchange_long': None, 'country': 'us', 'type': 'equity', 'industry': 'Communication Services', 'match_score': 12.276247, 'sentiment_score': 0.6597, 'highlights': [{'highlight': \"Discovery (NASDAQ: ), <em>Comcast</em> (NASDAQ: ), Disney, and ViacomCBS (NASDAQ: ) are all vying for a piece of the pie. Despite this, Netflix's large content budget, which allows for significant investment in proprietary content, positions it well to attract and retain subscribers globally.\", 'sentiment': 0.6597, 'highlighted_in': 'main_text'}]}, {'symbol': 'NFLX', 'name': 'Netflix, Inc.', 'exchange': None, 'exchange_long': None, 'country': 'us', 'type': 'equity', 'industry': 'Communication Services', 'match_score': 30.367165, 'sentiment_score': 0.43115, 'highlights': [{'highlight': 'As the streaming industry continues to evolve, <em>Netflix</em> <em>Inc</em>. (NASDAQ: ) remains a subject of intense scrutiny among Wall Street analysts. The company, known for its vast library of TV shows, movies, anime, documentaries, and more, is navigating a landscape marked by shifting consumer preferences and intensifying competition.', 'sentiment': 0.0772, 'highlighted_in': 'main_text'}, {'highlight': 'Regulatory Environments and Customer Base\\n\\nRegulatory challenges vary by region, but <em>Netflix</em> has managed to navigate these with relative success. Its customer base is diverse, spanning across different demographics, which is a testament to the broad appeal of its content offerings.', 'sentiment': 0.7351, 'highlighted_in': 'main_text'}, {'highlight': 'Potential Impacts of External Factors\\n\\nExternal factors such as the Hollywood strikes have been seen as negative for <em>Netflix</em>, but less so compared to other streamers and studios.', 'sentiment': -0.4767, 'highlighted_in': 'main_text'}, {'highlight': \"Upcoming Product Launches\\n\\n<em>Netflix</em> continues to innovate with new product launches. The introduction of ad-supported tiers and initiatives to monetize password sharing are seen as major growth drivers. The company's content slate remains strong, with significant titles set for release despite talent strikes.\", 'sentiment': 0.912, 'highlighted_in': 'main_text'}, {'highlight': \"InvestingPro Insights\\n\\n<em>Netflix</em> <em>Inc</em>. (<em>NASDAQ:NFLX</em>) continues to capture the attention of investors and analysts alike as it maneuvers through the dynamic streaming landscape. With a market capitalization of $209.89 billion, the company's financial metrics and stock performance offer a deeper insight into its current valuation and future prospects.\", 'sentiment': 0.5859, 'highlighted_in': 'main_text'}, {'highlight': \"Firstly, <em>Netflix</em> yields a high return on invested capital, which is a testament to its efficient allocation of financial resources. Secondly, with 14 analysts having revised their earnings upwards for the upcoming period, there's a consensus that the company's financial performance may surpass previous expectations.\", 'sentiment': 0.4215, 'highlighted_in': 'main_text'}, {'highlight': \"For those looking to dive deeper into the analytics and potential of <em>Netflix</em>, InvestingPro offers a comprehensive suite of additional tips. Currently, there are 21 more tips available on the platform, providing a more nuanced understanding of the company's financial health and market position.\", 'sentiment': 0.25, 'highlighted_in': 'main_text'}, {'highlight': 'This is an opportune time to access detailed analytics and tips that could shape investment strategies around a high-profile company like <em>Netflix</em>.\\n\\nWith a strong presence in the entertainment industry and a commitment to high returns on book equity, <em>Netflix</em> continues to be a prominent player worth monitoring closely.', 'sentiment': 0.9442, 'highlighted_in': 'main_text'}]}, {'symbol': 'VIAC', 'name': 'ViacomCBS Inc.', 'exchange': None, 'exchange_long': None, 'country': 'us', 'type': 'equity', 'industry': 'Communication Services', 'match_score': 13.331418, 'sentiment_score': 0.6597, 'highlights': [{'highlight': \"Discovery (NASDAQ: ), Comcast (NASDAQ: ), Disney, and <em>ViacomCBS</em> (NASDAQ: ) are all vying for a piece of the pie. Despite this, Netflix's large content budget, which allows for significant investment in proprietary content, positions it well to attract and retain subscribers globally.\", 'sentiment': 0.6597, 'highlighted_in': 'main_text'}]}, {'symbol': 'NFLX34.SA', 'name': 'Netflix, Inc.', 'exchange': None, 'exchange_long': None, 'country': 'br', 'type': 'equity', 'industry': 'Communication Services', 'match_score': 17.503086, 'sentiment_score': 0.43115, 'highlights': [{'highlight': 'As the streaming industry continues to evolve, <em>Netflix</em> <em>Inc</em>. (NASDAQ: ) remains a subject of intense scrutiny among Wall Street analysts. The company, known for its vast library of TV shows, movies, anime, documentaries, and more, is navigating a landscape marked by shifting consumer preferences and intensifying competition.', 'sentiment': 0.0772, 'highlighted_in': 'main_text'}, {'highlight': 'Regulatory Environments and Customer Base\\n\\nRegulatory challenges vary by region, but <em>Netflix</em> has managed to navigate these with relative success. Its customer base is diverse, spanning across different demographics, which is a testament to the broad appeal of its content offerings.', 'sentiment': 0.7351, 'highlighted_in': 'main_text'}, {'highlight': 'Potential Impacts of External Factors\\n\\nExternal factors such as the Hollywood strikes have been seen as negative for <em>Netflix</em>, but less so compared to other streamers and studios.', 'sentiment': -0.4767, 'highlighted_in': 'main_text'}, {'highlight': \"Upcoming Product Launches\\n\\n<em>Netflix</em> continues to innovate with new product launches. The introduction of ad-supported tiers and initiatives to monetize password sharing are seen as major growth drivers. The company's content slate remains strong, with significant titles set for release despite talent strikes.\", 'sentiment': 0.912, 'highlighted_in': 'main_text'}, {'highlight': \"InvestingPro Insights\\n\\n<em>Netflix</em> <em>Inc</em>. (NASDAQ:NFLX) continues to capture the attention of investors and analysts alike as it maneuvers through the dynamic streaming landscape. With a market capitalization of $209.89 billion, the company's financial metrics and stock performance offer a deeper insight into its current valuation and future prospects.\", 'sentiment': 0.5859, 'highlighted_in': 'main_text'}, {'highlight': \"Firstly, <em>Netflix</em> yields a high return on invested capital, which is a testament to its efficient allocation of financial resources. Secondly, with 14 analysts having revised their earnings upwards for the upcoming period, there's a consensus that the company's financial performance may surpass previous expectations.\", 'sentiment': 0.4215, 'highlighted_in': 'main_text'}, {'highlight': \"For those looking to dive deeper into the analytics and potential of <em>Netflix</em>, InvestingPro offers a comprehensive suite of additional tips. Currently, there are 21 more tips available on the platform, providing a more nuanced understanding of the company's financial health and market position.\", 'sentiment': 0.25, 'highlighted_in': 'main_text'}, {'highlight': 'This is an opportune time to access detailed analytics and tips that could shape investment strategies around a high-profile company like <em>Netflix</em>.\\n\\nWith a strong presence in the entertainment industry and a commitment to high returns on book equity, <em>Netflix</em> continues to be a prominent player worth monitoring closely.', 'sentiment': 0.9442, 'highlighted_in': 'main_text'}]}, {'symbol': 'NFLX.BA', 'name': 'Netflix, Inc.', 'exchange': None, 'exchange_long': None, 'country': 'ar', 'type': 'equity', 'industry': 'Communication Services', 'match_score': 17.502125, 'sentiment_score': 0.43115, 'highlights': [{'highlight': 'As the streaming industry continues to evolve, <em>Netflix</em> <em>Inc</em>. (NASDAQ: ) remains a subject of intense scrutiny among Wall Street analysts. The company, known for its vast library of TV shows, movies, anime, documentaries, and more, is navigating a landscape marked by shifting consumer preferences and intensifying competition.', 'sentiment': 0.0772, 'highlighted_in': 'main_text'}, {'highlight': 'Regulatory Environments and Customer Base\\n\\nRegulatory challenges vary by region, but <em>Netflix</em> has managed to navigate these with relative success. Its customer base is diverse, spanning across different demographics, which is a testament to the broad appeal of its content offerings.', 'sentiment': 0.7351, 'highlighted_in': 'main_text'}, {'highlight': 'Potential Impacts of External Factors\\n\\nExternal factors such as the Hollywood strikes have been seen as negative for <em>Netflix</em>, but less so compared to other streamers and studios.', 'sentiment': -0.4767, 'highlighted_in': 'main_text'}, {'highlight': \"Upcoming Product Launches\\n\\n<em>Netflix</em> continues to innovate with new product launches. The introduction of ad-supported tiers and initiatives to monetize password sharing are seen as major growth drivers. The company's content slate remains strong, with significant titles set for release despite talent strikes.\", 'sentiment': 0.912, 'highlighted_in': 'main_text'}, {'highlight': \"InvestingPro Insights\\n\\n<em>Netflix</em> <em>Inc</em>. (NASDAQ:NFLX) continues to capture the attention of investors and analysts alike as it maneuvers through the dynamic streaming landscape. With a market capitalization of $209.89 billion, the company's financial metrics and stock performance offer a deeper insight into its current valuation and future prospects.\", 'sentiment': 0.5859, 'highlighted_in': 'main_text'}, {'highlight': \"Firstly, <em>Netflix</em> yields a high return on invested capital, which is a testament to its efficient allocation of financial resources. Secondly, with 14 analysts having revised their earnings upwards for the upcoming period, there's a consensus that the company's financial performance may surpass previous expectations.\", 'sentiment': 0.4215, 'highlighted_in': 'main_text'}, {'highlight': \"For those looking to dive deeper into the analytics and potential of <em>Netflix</em>, InvestingPro offers a comprehensive suite of additional tips. Currently, there are 21 more tips available on the platform, providing a more nuanced understanding of the company's financial health and market position.\", 'sentiment': 0.25, 'highlighted_in': 'main_text'}, {'highlight': 'This is an opportune time to access detailed analytics and tips that could shape investment strategies around a high-profile company like <em>Netflix</em>.\\n\\nWith a strong presence in the entertainment industry and a commitment to high returns on book equity, <em>Netflix</em> continues to be a prominent player worth monitoring closely.', 'sentiment': 0.9442, 'highlighted_in': 'main_text'}]}, {'symbol': 'NFLXD.BA', 'name': 'NETFLIX INC', 'exchange': None, 'exchange_long': None, 'country': 'ar', 'type': 'equity', 'industry': 'N/A', 'match_score': 17.502125, 'sentiment_score': 0.43115, 'highlights': [{'highlight': 'As the streaming industry continues to evolve, <em>Netflix</em> <em>Inc</em>. (NASDAQ: ) remains a subject of intense scrutiny among Wall Street analysts. The company, known for its vast library of TV shows, movies, anime, documentaries, and more, is navigating a landscape marked by shifting consumer preferences and intensifying competition.', 'sentiment': 0.0772, 'highlighted_in': 'main_text'}, {'highlight': 'Regulatory Environments and Customer Base\\n\\nRegulatory challenges vary by region, but <em>Netflix</em> has managed to navigate these with relative success. Its customer base is diverse, spanning across different demographics, which is a testament to the broad appeal of its content offerings.', 'sentiment': 0.7351, 'highlighted_in': 'main_text'}, {'highlight': 'Potential Impacts of External Factors\\n\\nExternal factors such as the Hollywood strikes have been seen as negative for <em>Netflix</em>, but less so compared to other streamers and studios.', 'sentiment': -0.4767, 'highlighted_in': 'main_text'}, {'highlight': \"Upcoming Product Launches\\n\\n<em>Netflix</em> continues to innovate with new product launches. The introduction of ad-supported tiers and initiatives to monetize password sharing are seen as major growth drivers. The company's content slate remains strong, with significant titles set for release despite talent strikes.\", 'sentiment': 0.912, 'highlighted_in': 'main_text'}, {'highlight': \"InvestingPro Insights\\n\\n<em>Netflix</em> <em>Inc</em>. (NASDAQ:NFLX) continues to capture the attention of investors and analysts alike as it maneuvers through the dynamic streaming landscape. With a market capitalization of $209.89 billion, the company's financial metrics and stock performance offer a deeper insight into its current valuation and future prospects.\", 'sentiment': 0.5859, 'highlighted_in': 'main_text'}, {'highlight': \"Firstly, <em>Netflix</em> yields a high return on invested capital, which is a testament to its efficient allocation of financial resources. Secondly, with 14 analysts having revised their earnings upwards for the upcoming period, there's a consensus that the company's financial performance may surpass previous expectations.\", 'sentiment': 0.4215, 'highlighted_in': 'main_text'}, {'highlight': \"For those looking to dive deeper into the analytics and potential of <em>Netflix</em>, InvestingPro offers a comprehensive suite of additional tips. Currently, there are 21 more tips available on the platform, providing a more nuanced understanding of the company's financial health and market position.\", 'sentiment': 0.25, 'highlighted_in': 'main_text'}, {'highlight': 'This is an opportune time to access detailed analytics and tips that could shape investment strategies around a high-profile company like <em>Netflix</em>.\\n\\nWith a strong presence in the entertainment industry and a commitment to high returns on book equity, <em>Netflix</em> continues to be a prominent player worth monitoring closely.', 'sentiment': 0.9442, 'highlighted_in': 'main_text'}]}, {'symbol': 'MSCL.SN', 'name': 'MORGAN STANLEY', 'exchange': None, 'exchange_long': None, 'country': 'cl', 'type': 'equity', 'industry': 'N/A', 'match_score': 14.395887, 'sentiment_score': -0.4404, 'highlights': [{'highlight': '<em>Morgan</em> <em>Stanley</em>: Overweight rating; price target increased from $430 to $475 (Friday, October 20, 2023).\\n\\nCiti Research: Buy rating; price target maintained at $500 (Friday, October 20, 2023).\\n\\nKeyBanc: Overweight rating; new price target of $510 (Thursday, October 19, 2023).', 'sentiment': -0.4404, 'highlighted_in': 'main_text'}]}, {'symbol': 'NFC.DE', 'name': 'Netflix, Inc.', 'exchange': None, 'exchange_long': None, 'country': 'de', 'type': 'equity', 'industry': 'Communication Services', 'match_score': 17.502064, 'sentiment_score': 0.43115, 'highlights': [{'highlight': 'As the streaming industry continues to evolve, <em>Netflix</em> <em>Inc</em>. (NASDAQ: ) remains a subject of intense scrutiny among Wall Street analysts. The company, known for its vast library of TV shows, movies, anime, documentaries, and more, is navigating a landscape marked by shifting consumer preferences and intensifying competition.', 'sentiment': 0.0772, 'highlighted_in': 'main_text'}, {'highlight': 'Regulatory Environments and Customer Base\\n\\nRegulatory challenges vary by region, but <em>Netflix</em> has managed to navigate these with relative success. Its customer base is diverse, spanning across different demographics, which is a testament to the broad appeal of its content offerings.', 'sentiment': 0.7351, 'highlighted_in': 'main_text'}, {'highlight': 'Potential Impacts of External Factors\\n\\nExternal factors such as the Hollywood strikes have been seen as negative for <em>Netflix</em>, but less so compared to other streamers and studios.', 'sentiment': -0.4767, 'highlighted_in': 'main_text'}, {'highlight': \"Upcoming Product Launches\\n\\n<em>Netflix</em> continues to innovate with new product launches. The introduction of ad-supported tiers and initiatives to monetize password sharing are seen as major growth drivers. The company's content slate remains strong, with significant titles set for release despite talent strikes.\", 'sentiment': 0.912, 'highlighted_in': 'main_text'}, {'highlight': \"InvestingPro Insights\\n\\n<em>Netflix</em> <em>Inc</em>. (NASDAQ:NFLX) continues to capture the attention of investors and analysts alike as it maneuvers through the dynamic streaming landscape. With a market capitalization of $209.89 billion, the company's financial metrics and stock performance offer a deeper insight into its current valuation and future prospects.\", 'sentiment': 0.5859, 'highlighted_in': 'main_text'}, {'highlight': \"Firstly, <em>Netflix</em> yields a high return on invested capital, which is a testament to its efficient allocation of financial resources. Secondly, with 14 analysts having revised their earnings upwards for the upcoming period, there's a consensus that the company's financial performance may surpass previous expectations.\", 'sentiment': 0.4215, 'highlighted_in': 'main_text'}, {'highlight': \"For those looking to dive deeper into the analytics and potential of <em>Netflix</em>, InvestingPro offers a comprehensive suite of additional tips. Currently, there are 21 more tips available on the platform, providing a more nuanced understanding of the company's financial health and market position.\", 'sentiment': 0.25, 'highlighted_in': 'main_text'}, {'highlight': 'This is an opportune time to access detailed analytics and tips that could shape investment strategies around a high-profile company like <em>Netflix</em>.\\n\\nWith a strong presence in the entertainment industry and a commitment to high returns on book equity, <em>Netflix</em> continues to be a prominent player worth monitoring closely.', 'sentiment': 0.9442, 'highlighted_in': 'main_text'}]}]}]}, {'uuid': '4261b03e-601f-4a3b-8816-d54845c21a85', 'title': \"Pro Research: Wall Street eyes Alphabet's robust growth prospects By Investing.com\", 'description': \"Pro Research: Wall Street eyes Alphabet's robust growth prospects\", 'keywords': '', 'snippet': 'Published Nov 27, 2023 12:03PM ET\\n\\n© Reuters.\\n\\nGOOGL +0.04% Add to/Remove from Watchlist\\n\\nProResearch offers comprehensive research analysis based on insights ...', 'url': 'https://www.investing.com/news/stock-market-news/pro-research-wall-street-eyes-alphabets-robust-growth-prospects-93CH-3244059', 'image_url': 'https://i-invdn-com.investing.com/news/LYNXMPEA7Q0M3_L.jpg', 'language': 'en', 'published_at': '2023-11-27T17:03:16.000000Z', 'source': 'investing.com', 'relevance_score': None, 'entities': [{'symbol': 'GOOGL', 'name': 'Alphabet Inc.', 'exchange': None, 'exchange_long': None, 'country': 'us', 'type': 'equity', 'industry': 'Communication Services', 'match_score': 27.563004, 'sentiment_score': 0.271343, 'highlights': [{'highlight': '<em>GOOGL</em> +0.04% Add to/Remove from Watchlist\\n\\nProResearch offers comprehensive research analysis based on insights from top Wall Street analysts. These articles will soon be accessible exclusively to InvestingPro subscribers.', 'sentiment': 0.4215, 'highlighted_in': 'main_text'}, {'highlight': '<em>Alphabet</em> (NASDAQ: ) Inc., the parent company of Google, stands as a beacon of technological innovation and market leadership in the internet services and products sector.', 'sentiment': 0.3818, 'highlighted_in': 'main_text'}, {'highlight': 'Company Performance and Market Trends\\n\\n<em>Alphabet</em> has been making headlines with its financial performance, particularly in its core Search and YouTube segments, which continue to exceed market expectations.', 'sentiment': 0, 'highlighted_in': 'main_text'}, {'highlight': \"InvestingPro Insights\\n\\n<em>Alphabet</em> <em>Inc</em>. has cemented its position as a leader in the Interactive Media & Services industry, with its expansive portfolio of services including the dominant Search and the ever-popular YouTube. The real-time data from InvestingPro provides key insights into the company's financial health and market valuation.\", 'sentiment': 0, 'highlighted_in': 'main_text'}, {'highlight': \"However, it's noteworthy that <em>Alphabet</em> holds more cash than debt on its balance sheet, providing it with financial flexibility to navigate market uncertainties and invest in strategic initiatives, such as its Generative AI (GenAI) and Google Cloud Platform (GCP).\", 'sentiment': -0.4201, 'highlighted_in': 'main_text'}, {'highlight': 'InvestingPro Tips highlight that <em>Alphabet</em> operates with a high return on invested capital and assets, suggesting efficient management and a strong ability to generate profits from its investments. Additionally, the company does not pay a dividend, which could be a strategic decision to reinvest earnings back into the company for further growth.', 'sentiment': 0.9443, 'highlighted_in': 'main_text'}, {'highlight': \"For those seeking a deeper analysis, there are 17 additional InvestingPro Tips available for <em>Alphabet</em>, offering a comprehensive understanding of the company's financial nuances and investment potential. With the InvestingPro subscription now on a special Cyber Monday sale, investors can access these insights at a discount of up to 55%.\", 'sentiment': 0.5719, 'highlighted_in': 'main_text'}]}, {'symbol': 'MSFT', 'name': 'Microsoft Corporation', 'exchange': None, 'exchange_long': None, 'country': 'us', 'type': 'equity', 'industry': 'Technology', 'match_score': 9.28847, 'sentiment_score': 0.4942, 'highlights': [{'highlight': 'Despite these strengths, the company faces headwinds in its Cloud services segment, where it has underperformed against competitors like <em>Microsoft</em> (NASDAQ: ) Azure, leading to concerns about its market share and the need for further investment.', 'sentiment': 0.4942, 'highlighted_in': 'main_text'}]}], 'similar': []}]}\n"
     ]
    }
   ],
   "source": [
    "import os\n",
    "import requests\n",
    "import json\n",
    "\n",
    "def fetch_market_data_and_save(symbols, save_folder, language='en', filter_entities=True, api_token=None):\n",
    "    base_url = 'https://api.marketaux.com/v1/news/all'\n",
    "    \n",
    "    params = {\n",
    "        'symbols': ','.join(symbols),\n",
    "        'language': language,\n",
    "        'filter_entities': str(filter_entities).lower(),\n",
    "        'api_token': api_token,\n",
    "    }\n",
    "    \n",
    "    response = requests.get(base_url, params=params)\n",
    "    \n",
    "    if response.status_code == 200:\n",
    "        # Save the JSON data to a file\n",
    "        data = response.json()\n",
    "        save_path = os.path.join(save_folder, 'new_data.json')\n",
    "        with open(save_path, 'w') as file:\n",
    "            json.dump(data, file, indent=2)\n",
    "        print(f\"Data saved successfully to {save_path}\")\n",
    "        return data\n",
    "    else:\n",
    "        print(f\"Error {response.status_code}: {response.text}\")\n",
    "        return None\n",
    "\n",
    "symbols = [\n",
    "    'AAPL', 'GOOGL', 'AMZN', 'MSFT', 'TSLA',  # Large Tech Companies\n",
    "    'JPM', 'GS', 'C', 'BAC', 'WFC',  # Major Banks\n",
    "    'V', 'MA', 'PYPL', 'AXP', 'SQ',  # Payment and Financial Services\n",
    "    'KO', 'PEP', 'MCD', 'SBUX', 'NKE',  # Consumer Goods and Retail\n",
    "    'XOM', 'CVX', 'BP', 'TOT', 'RDS.A',  # Energy Companies\n",
    "    'BA', 'LMT', 'RTX', 'NOC', 'GD',  # Aerospace and Defense\n",
    "    'IBM', 'INTC', 'AMD', 'NVDA', 'QCOM',  # Semiconductors\n",
    "    'DIS', 'NFLX', 'CMCSA', 'FOXA', 'DISCA',  # Media and Entertainment\n",
    "    'VZ', 'T', 'TMUS', 'S', 'CHTR',  # Telecommunications\n",
    "    'WMT', 'COST', 'AMT', 'PLD', 'SPG',  # Real Estate and Retail\n",
    "    'PG', 'UNH', 'MRK', 'PFE', 'JNJ',  # Healthcare and Pharmaceuticals\n",
    "    'GS', 'BLK', 'BLKB', 'PNC', 'MS',  # Financial Services\n",
    "    'AAL', 'DAL', 'UAL', 'LUV', 'SAVE',  # Airlines and Transportation\n",
    "    'MMM', 'CAT', 'DE', 'BA', 'HON',  # Industrial and Manufacturing\n",
    "]\n",
    "save_folder = '/Users/mariaeusse/MEH/Clases/Fall-2023/Ds-ML/Final_Project/Model_US/API-data'\n",
    "\n",
    "result = fetch_market_data_and_save(symbols, save_folder, api_token='vuOf55jy5CTjkccu6UxMWxctylNrt0tpYS3cmZBy')\n",
    "\n",
    "if result:\n",
    "    print(result)\n"
   ]
  },
  {
   "cell_type": "markdown",
   "metadata": {},
   "source": [
    "The data comes as a json file. Converting it to csv"
   ]
  },
  {
   "cell_type": "code",
   "execution_count": 2,
   "metadata": {},
   "outputs": [],
   "source": [
    "#converting json file into csv file\n",
    "import pandas as pd\n",
    "import json\n",
    "\n",
    "json_file_path = '/Users/mariaeusse/MEH/Clases/Fall-2023/Ds-ML/Final_Project/Model_US/API-data/new_data.json'\n",
    "\n",
    "with open(json_file_path, 'r') as json_file:\n",
    "    data = json.load(json_file)\n",
    "\n",
    "data_list = data.get('data', [])\n",
    "\n",
    "df = pd.json_normalize(data_list)\n",
    "csv_file_path = '/Users/mariaeusse/MEH/Clases/Fall-2023/Ds-ML/Final_Project/Model_US/API-data/new_data.csv'\n",
    "df.to_csv(csv_file_path, index=False)"
   ]
  },
  {
   "cell_type": "code",
   "execution_count": 3,
   "metadata": {},
   "outputs": [
    {
     "data": {
      "text/html": [
       "<div>\n",
       "<style scoped>\n",
       "    .dataframe tbody tr th:only-of-type {\n",
       "        vertical-align: middle;\n",
       "    }\n",
       "\n",
       "    .dataframe tbody tr th {\n",
       "        vertical-align: top;\n",
       "    }\n",
       "\n",
       "    .dataframe thead th {\n",
       "        text-align: right;\n",
       "    }\n",
       "</style>\n",
       "<table border=\"1\" class=\"dataframe\">\n",
       "  <thead>\n",
       "    <tr style=\"text-align: right;\">\n",
       "      <th></th>\n",
       "      <th>uuid</th>\n",
       "      <th>title</th>\n",
       "      <th>description</th>\n",
       "      <th>keywords</th>\n",
       "      <th>snippet</th>\n",
       "      <th>url</th>\n",
       "      <th>image_url</th>\n",
       "      <th>language</th>\n",
       "      <th>published_at</th>\n",
       "      <th>source</th>\n",
       "      <th>relevance_score</th>\n",
       "      <th>entities</th>\n",
       "      <th>similar</th>\n",
       "    </tr>\n",
       "  </thead>\n",
       "  <tbody>\n",
       "    <tr>\n",
       "      <th>0</th>\n",
       "      <td>a675c3d6-08fe-4253-bde9-285c29a05442</td>\n",
       "      <td>13 Best Nancy Pelosi Stocks To Buy Now</td>\n",
       "      <td>In this article, we will take a look at the 13...</td>\n",
       "      <td>NaN</td>\n",
       "      <td>In this article, we will take a look at the 13...</td>\n",
       "      <td>https://finance.yahoo.com/news/13-best-nancy-p...</td>\n",
       "      <td>https://media.zenfs.com/en/insidermonkey.com/7...</td>\n",
       "      <td>en</td>\n",
       "      <td>2023-11-27T17:08:29.000000Z</td>\n",
       "      <td>finance.yahoo.com</td>\n",
       "      <td>NaN</td>\n",
       "      <td>[{'symbol': 'PYPL', 'name': 'PayPal Holdings, ...</td>\n",
       "      <td>[]</td>\n",
       "    </tr>\n",
       "    <tr>\n",
       "      <th>1</th>\n",
       "      <td>4e4521ff-2e47-416e-8617-81678485ec10</td>\n",
       "      <td>Pro Research: Wall Street dives into Enphase E...</td>\n",
       "      <td>Pro Research: Wall Street dives into Enphase E...</td>\n",
       "      <td>NaN</td>\n",
       "      <td>Published Nov 27, 2023 12:05PM ET\\n\\n© Reuters...</td>\n",
       "      <td>https://www.investing.com/news/stock-market-ne...</td>\n",
       "      <td>https://i-invdn-com.investing.com/news/LYNXNPE...</td>\n",
       "      <td>en</td>\n",
       "      <td>2023-11-27T17:05:42.000000Z</td>\n",
       "      <td>investing.com</td>\n",
       "      <td>NaN</td>\n",
       "      <td>[{'symbol': 'TSLA', 'name': 'Tesla, Inc.', 'ex...</td>\n",
       "      <td>[{'uuid': 'b08f7a42-31ee-461f-a98c-1a501009366...</td>\n",
       "    </tr>\n",
       "    <tr>\n",
       "      <th>2</th>\n",
       "      <td>4261b03e-601f-4a3b-8816-d54845c21a85</td>\n",
       "      <td>Pro Research: Wall Street eyes Alphabet's robu...</td>\n",
       "      <td>Pro Research: Wall Street eyes Alphabet's robu...</td>\n",
       "      <td>NaN</td>\n",
       "      <td>Published Nov 27, 2023 12:03PM ET\\n\\n© Reuters...</td>\n",
       "      <td>https://www.investing.com/news/stock-market-ne...</td>\n",
       "      <td>https://i-invdn-com.investing.com/news/LYNXMPE...</td>\n",
       "      <td>en</td>\n",
       "      <td>2023-11-27T17:03:16.000000Z</td>\n",
       "      <td>investing.com</td>\n",
       "      <td>NaN</td>\n",
       "      <td>[{'symbol': 'GOOGL', 'name': 'Alphabet Inc.', ...</td>\n",
       "      <td>[]</td>\n",
       "    </tr>\n",
       "  </tbody>\n",
       "</table>\n",
       "</div>"
      ],
      "text/plain": [
       "                                   uuid  \\\n",
       "0  a675c3d6-08fe-4253-bde9-285c29a05442   \n",
       "1  4e4521ff-2e47-416e-8617-81678485ec10   \n",
       "2  4261b03e-601f-4a3b-8816-d54845c21a85   \n",
       "\n",
       "                                               title  \\\n",
       "0             13 Best Nancy Pelosi Stocks To Buy Now   \n",
       "1  Pro Research: Wall Street dives into Enphase E...   \n",
       "2  Pro Research: Wall Street eyes Alphabet's robu...   \n",
       "\n",
       "                                         description  keywords  \\\n",
       "0  In this article, we will take a look at the 13...       NaN   \n",
       "1  Pro Research: Wall Street dives into Enphase E...       NaN   \n",
       "2  Pro Research: Wall Street eyes Alphabet's robu...       NaN   \n",
       "\n",
       "                                             snippet  \\\n",
       "0  In this article, we will take a look at the 13...   \n",
       "1  Published Nov 27, 2023 12:05PM ET\\n\\n© Reuters...   \n",
       "2  Published Nov 27, 2023 12:03PM ET\\n\\n© Reuters...   \n",
       "\n",
       "                                                 url  \\\n",
       "0  https://finance.yahoo.com/news/13-best-nancy-p...   \n",
       "1  https://www.investing.com/news/stock-market-ne...   \n",
       "2  https://www.investing.com/news/stock-market-ne...   \n",
       "\n",
       "                                           image_url language  \\\n",
       "0  https://media.zenfs.com/en/insidermonkey.com/7...       en   \n",
       "1  https://i-invdn-com.investing.com/news/LYNXNPE...       en   \n",
       "2  https://i-invdn-com.investing.com/news/LYNXMPE...       en   \n",
       "\n",
       "                  published_at             source  relevance_score  \\\n",
       "0  2023-11-27T17:08:29.000000Z  finance.yahoo.com              NaN   \n",
       "1  2023-11-27T17:05:42.000000Z      investing.com              NaN   \n",
       "2  2023-11-27T17:03:16.000000Z      investing.com              NaN   \n",
       "\n",
       "                                            entities  \\\n",
       "0  [{'symbol': 'PYPL', 'name': 'PayPal Holdings, ...   \n",
       "1  [{'symbol': 'TSLA', 'name': 'Tesla, Inc.', 'ex...   \n",
       "2  [{'symbol': 'GOOGL', 'name': 'Alphabet Inc.', ...   \n",
       "\n",
       "                                             similar  \n",
       "0                                                 []  \n",
       "1  [{'uuid': 'b08f7a42-31ee-461f-a98c-1a501009366...  \n",
       "2                                                 []  "
      ]
     },
     "execution_count": 3,
     "metadata": {},
     "output_type": "execute_result"
    }
   ],
   "source": [
    "import pandas as pd\n",
    "df = pd.read_csv('/Users/mariaeusse/MEH/Clases/Fall-2023/Ds-ML/Final_Project/Model_US/API-data/new_data.csv')\n",
    "df.head()"
   ]
  },
  {
   "cell_type": "code",
   "execution_count": 4,
   "metadata": {},
   "outputs": [
    {
     "data": {
      "text/plain": [
       "'In this article, we will take a look at the 13 best Nancy Pelosi stocks to buy now. To see more such companies, go directly to 5 Best Nancy Pelosi Stocks To Buy Now. The US economy and consumer sentiment remained unexpectedly strong throughout 2023. When the year started there were incessant warnings about recession […]'"
      ]
     },
     "execution_count": 4,
     "metadata": {},
     "output_type": "execute_result"
    }
   ],
   "source": [
    "df.description[0]"
   ]
  },
  {
   "cell_type": "markdown",
   "metadata": {},
   "source": [
    "from the description feature we could make the sentiment analysis"
   ]
  },
  {
   "cell_type": "code",
   "execution_count": 5,
   "metadata": {},
   "outputs": [
    {
     "data": {
      "text/plain": [
       "(3, 13)"
      ]
     },
     "execution_count": 5,
     "metadata": {},
     "output_type": "execute_result"
    }
   ],
   "source": [
    "df.shape"
   ]
  },
  {
   "cell_type": "code",
   "execution_count": 6,
   "metadata": {},
   "outputs": [
    {
     "data": {
      "text/plain": [
       "Index(['uuid', 'title', 'description', 'keywords', 'snippet', 'url',\n",
       "       'image_url', 'language', 'published_at', 'source', 'relevance_score',\n",
       "       'entities', 'similar'],\n",
       "      dtype='object')"
      ]
     },
     "execution_count": 6,
     "metadata": {},
     "output_type": "execute_result"
    }
   ],
   "source": [
    "df.columns"
   ]
  },
  {
   "cell_type": "markdown",
   "metadata": {},
   "source": [
    "pre-processing data to then put it in the BERT model "
   ]
  },
  {
   "cell_type": "code",
   "execution_count": 7,
   "metadata": {},
   "outputs": [
    {
     "data": {
      "text/html": [
       "<div>\n",
       "<style scoped>\n",
       "    .dataframe tbody tr th:only-of-type {\n",
       "        vertical-align: middle;\n",
       "    }\n",
       "\n",
       "    .dataframe tbody tr th {\n",
       "        vertical-align: top;\n",
       "    }\n",
       "\n",
       "    .dataframe thead th {\n",
       "        text-align: right;\n",
       "    }\n",
       "</style>\n",
       "<table border=\"1\" class=\"dataframe\">\n",
       "  <thead>\n",
       "    <tr style=\"text-align: right;\">\n",
       "      <th></th>\n",
       "      <th>description</th>\n",
       "    </tr>\n",
       "  </thead>\n",
       "  <tbody>\n",
       "    <tr>\n",
       "      <th>0</th>\n",
       "      <td>In this article, we will take a look at the 13...</td>\n",
       "    </tr>\n",
       "    <tr>\n",
       "      <th>1</th>\n",
       "      <td>Pro Research: Wall Street dives into Enphase E...</td>\n",
       "    </tr>\n",
       "    <tr>\n",
       "      <th>2</th>\n",
       "      <td>Pro Research: Wall Street eyes Alphabet's robu...</td>\n",
       "    </tr>\n",
       "  </tbody>\n",
       "</table>\n",
       "</div>"
      ],
      "text/plain": [
       "                                         description\n",
       "0  In this article, we will take a look at the 13...\n",
       "1  Pro Research: Wall Street dives into Enphase E...\n",
       "2  Pro Research: Wall Street eyes Alphabet's robu..."
      ]
     },
     "execution_count": 7,
     "metadata": {},
     "output_type": "execute_result"
    }
   ],
   "source": [
    "#only keeping desired collumns (description = text) to merge with database data\n",
    "import pandas as pd\n",
    "\n",
    "df = pd.read_csv('/Users/mariaeusse/MEH/Clases/Fall-2023/Ds-ML/Final_Project/Model_US/API-data/new_data.csv')\n",
    "\n",
    "selected_columns = ['description']\n",
    "df = df[selected_columns]\n",
    "\n",
    "df.to_csv('/Users/mariaeusse/MEH/Clases/Fall-2023/Ds-ML/Final_Project/Model_US/API-data/new_data.csv', index=False)\n",
    "df.head()"
   ]
  },
  {
   "cell_type": "code",
   "execution_count": 8,
   "metadata": {},
   "outputs": [
    {
     "data": {
      "text/html": [
       "<div>\n",
       "<style scoped>\n",
       "    .dataframe tbody tr th:only-of-type {\n",
       "        vertical-align: middle;\n",
       "    }\n",
       "\n",
       "    .dataframe tbody tr th {\n",
       "        vertical-align: top;\n",
       "    }\n",
       "\n",
       "    .dataframe thead th {\n",
       "        text-align: right;\n",
       "    }\n",
       "</style>\n",
       "<table border=\"1\" class=\"dataframe\">\n",
       "  <thead>\n",
       "    <tr style=\"text-align: right;\">\n",
       "      <th></th>\n",
       "      <th>description</th>\n",
       "      <th>labels</th>\n",
       "    </tr>\n",
       "  </thead>\n",
       "  <tbody>\n",
       "    <tr>\n",
       "      <th>0</th>\n",
       "      <td>In this article, we will take a look at the 13...</td>\n",
       "      <td>None</td>\n",
       "    </tr>\n",
       "    <tr>\n",
       "      <th>1</th>\n",
       "      <td>Pro Research: Wall Street dives into Enphase E...</td>\n",
       "      <td>None</td>\n",
       "    </tr>\n",
       "    <tr>\n",
       "      <th>2</th>\n",
       "      <td>Pro Research: Wall Street eyes Alphabet's robu...</td>\n",
       "      <td>None</td>\n",
       "    </tr>\n",
       "  </tbody>\n",
       "</table>\n",
       "</div>"
      ],
      "text/plain": [
       "                                         description labels\n",
       "0  In this article, we will take a look at the 13...   None\n",
       "1  Pro Research: Wall Street dives into Enphase E...   None\n",
       "2  Pro Research: Wall Street eyes Alphabet's robu...   None"
      ]
     },
     "execution_count": 8,
     "metadata": {},
     "output_type": "execute_result"
    }
   ],
   "source": [
    "#adding colum labels to df\n",
    "df['labels'] = None\n",
    "df.head()"
   ]
  },
  {
   "cell_type": "code",
   "execution_count": 9,
   "metadata": {},
   "outputs": [
    {
     "data": {
      "text/html": [
       "<div>\n",
       "<style scoped>\n",
       "    .dataframe tbody tr th:only-of-type {\n",
       "        vertical-align: middle;\n",
       "    }\n",
       "\n",
       "    .dataframe tbody tr th {\n",
       "        vertical-align: top;\n",
       "    }\n",
       "\n",
       "    .dataframe thead th {\n",
       "        text-align: right;\n",
       "    }\n",
       "</style>\n",
       "<table border=\"1\" class=\"dataframe\">\n",
       "  <thead>\n",
       "    <tr style=\"text-align: right;\">\n",
       "      <th></th>\n",
       "      <th>description</th>\n",
       "      <th>labels</th>\n",
       "    </tr>\n",
       "  </thead>\n",
       "  <tbody>\n",
       "    <tr>\n",
       "      <th>0</th>\n",
       "      <td>In this article, we will take a look at the 13...</td>\n",
       "      <td>positive</td>\n",
       "    </tr>\n",
       "    <tr>\n",
       "      <th>1</th>\n",
       "      <td>Pro Research: Wall Street dives into Enphase E...</td>\n",
       "      <td>neutral</td>\n",
       "    </tr>\n",
       "    <tr>\n",
       "      <th>2</th>\n",
       "      <td>Pro Research: Wall Street eyes Alphabet's robu...</td>\n",
       "      <td>positive</td>\n",
       "    </tr>\n",
       "  </tbody>\n",
       "</table>\n",
       "</div>"
      ],
      "text/plain": [
       "                                         description    labels\n",
       "0  In this article, we will take a look at the 13...  positive\n",
       "1  Pro Research: Wall Street dives into Enphase E...   neutral\n",
       "2  Pro Research: Wall Street eyes Alphabet's robu...  positive"
      ]
     },
     "execution_count": 9,
     "metadata": {},
     "output_type": "execute_result"
    }
   ],
   "source": [
    "#assigning the correct label to each article\n",
    "df['labels'][0] = 'positive'\n",
    "df['labels'][1] = 'neutral'\n",
    "df['labels'][2] = 'positive'\n",
    "\n",
    "df.to_csv('/Users/mariaeusse/MEH/Clases/Fall-2023/Ds-ML/Final_Project/Model_US/API-data/new_data.csv', index=False)\n",
    "df.head()"
   ]
  },
  {
   "cell_type": "code",
   "execution_count": 11,
   "metadata": {},
   "outputs": [
    {
     "data": {
      "text/html": [
       "<div>\n",
       "<style scoped>\n",
       "    .dataframe tbody tr th:only-of-type {\n",
       "        vertical-align: middle;\n",
       "    }\n",
       "\n",
       "    .dataframe tbody tr th {\n",
       "        vertical-align: top;\n",
       "    }\n",
       "\n",
       "    .dataframe thead th {\n",
       "        text-align: right;\n",
       "    }\n",
       "</style>\n",
       "<table border=\"1\" class=\"dataframe\">\n",
       "  <thead>\n",
       "    <tr style=\"text-align: right;\">\n",
       "      <th></th>\n",
       "      <th>Unnamed: 0</th>\n",
       "      <th>Unnamed: 1</th>\n",
       "    </tr>\n",
       "  </thead>\n",
       "  <tbody>\n",
       "    <tr>\n",
       "      <th>0</th>\n",
       "      <td>neutral</td>\n",
       "      <td>Technopolis plans to develop in stages an area...</td>\n",
       "    </tr>\n",
       "    <tr>\n",
       "      <th>1</th>\n",
       "      <td>negative</td>\n",
       "      <td>The international electronic industry company ...</td>\n",
       "    </tr>\n",
       "    <tr>\n",
       "      <th>2</th>\n",
       "      <td>positive</td>\n",
       "      <td>With the new production plant the company woul...</td>\n",
       "    </tr>\n",
       "    <tr>\n",
       "      <th>3</th>\n",
       "      <td>positive</td>\n",
       "      <td>According to the company 's updated strategy f...</td>\n",
       "    </tr>\n",
       "    <tr>\n",
       "      <th>4</th>\n",
       "      <td>positive</td>\n",
       "      <td>FINANCING OF ASPOCOMP 'S GROWTH Aspocomp is ag...</td>\n",
       "    </tr>\n",
       "  </tbody>\n",
       "</table>\n",
       "</div>"
      ],
      "text/plain": [
       "  Unnamed: 0                                         Unnamed: 1\n",
       "0    neutral  Technopolis plans to develop in stages an area...\n",
       "1   negative  The international electronic industry company ...\n",
       "2   positive  With the new production plant the company woul...\n",
       "3   positive  According to the company 's updated strategy f...\n",
       "4   positive  FINANCING OF ASPOCOMP 'S GROWTH Aspocomp is ag..."
      ]
     },
     "execution_count": 11,
     "metadata": {},
     "output_type": "execute_result"
    }
   ],
   "source": [
    "df_all = pd.read_csv('/Users/mariaeusse/MEH/Clases/Fall-2023/Ds-ML/Final_Project/Model_US/data/API_data.csv', encoding='latin1')\n",
    "df_all.head()"
   ]
  },
  {
   "cell_type": "code",
   "execution_count": 12,
   "metadata": {},
   "outputs": [
    {
     "data": {
      "text/html": [
       "<div>\n",
       "<style scoped>\n",
       "    .dataframe tbody tr th:only-of-type {\n",
       "        vertical-align: middle;\n",
       "    }\n",
       "\n",
       "    .dataframe tbody tr th {\n",
       "        vertical-align: top;\n",
       "    }\n",
       "\n",
       "    .dataframe thead th {\n",
       "        text-align: right;\n",
       "    }\n",
       "</style>\n",
       "<table border=\"1\" class=\"dataframe\">\n",
       "  <thead>\n",
       "    <tr style=\"text-align: right;\">\n",
       "      <th></th>\n",
       "      <th>labels</th>\n",
       "      <th>description</th>\n",
       "    </tr>\n",
       "  </thead>\n",
       "  <tbody>\n",
       "    <tr>\n",
       "      <th>0</th>\n",
       "      <td>neutral</td>\n",
       "      <td>Technopolis plans to develop in stages an area...</td>\n",
       "    </tr>\n",
       "    <tr>\n",
       "      <th>1</th>\n",
       "      <td>negative</td>\n",
       "      <td>The international electronic industry company ...</td>\n",
       "    </tr>\n",
       "    <tr>\n",
       "      <th>2</th>\n",
       "      <td>positive</td>\n",
       "      <td>With the new production plant the company woul...</td>\n",
       "    </tr>\n",
       "    <tr>\n",
       "      <th>3</th>\n",
       "      <td>positive</td>\n",
       "      <td>According to the company 's updated strategy f...</td>\n",
       "    </tr>\n",
       "    <tr>\n",
       "      <th>4</th>\n",
       "      <td>positive</td>\n",
       "      <td>FINANCING OF ASPOCOMP 'S GROWTH Aspocomp is ag...</td>\n",
       "    </tr>\n",
       "  </tbody>\n",
       "</table>\n",
       "</div>"
      ],
      "text/plain": [
       "     labels                                        description\n",
       "0   neutral  Technopolis plans to develop in stages an area...\n",
       "1  negative  The international electronic industry company ...\n",
       "2  positive  With the new production plant the company woul...\n",
       "3  positive  According to the company 's updated strategy f...\n",
       "4  positive  FINANCING OF ASPOCOMP 'S GROWTH Aspocomp is ag..."
      ]
     },
     "execution_count": 12,
     "metadata": {},
     "output_type": "execute_result"
    }
   ],
   "source": [
    "#naming the columns of the database data to later merge with the API dataset\n",
    "df_all.columns = ['labels', 'description']\n",
    "df_all.head()"
   ]
  },
  {
   "cell_type": "code",
   "execution_count": 13,
   "metadata": {},
   "outputs": [
    {
     "data": {
      "text/html": [
       "<div>\n",
       "<style scoped>\n",
       "    .dataframe tbody tr th:only-of-type {\n",
       "        vertical-align: middle;\n",
       "    }\n",
       "\n",
       "    .dataframe tbody tr th {\n",
       "        vertical-align: top;\n",
       "    }\n",
       "\n",
       "    .dataframe thead th {\n",
       "        text-align: right;\n",
       "    }\n",
       "</style>\n",
       "<table border=\"1\" class=\"dataframe\">\n",
       "  <thead>\n",
       "    <tr style=\"text-align: right;\">\n",
       "      <th></th>\n",
       "      <th>labels</th>\n",
       "      <th>description</th>\n",
       "    </tr>\n",
       "  </thead>\n",
       "  <tbody>\n",
       "    <tr>\n",
       "      <th>0</th>\n",
       "      <td>neutral</td>\n",
       "      <td>Technopolis plans to develop in stages an area...</td>\n",
       "    </tr>\n",
       "    <tr>\n",
       "      <th>1</th>\n",
       "      <td>negative</td>\n",
       "      <td>The international electronic industry company ...</td>\n",
       "    </tr>\n",
       "    <tr>\n",
       "      <th>2</th>\n",
       "      <td>positive</td>\n",
       "      <td>With the new production plant the company woul...</td>\n",
       "    </tr>\n",
       "    <tr>\n",
       "      <th>3</th>\n",
       "      <td>positive</td>\n",
       "      <td>According to the company 's updated strategy f...</td>\n",
       "    </tr>\n",
       "    <tr>\n",
       "      <th>4</th>\n",
       "      <td>positive</td>\n",
       "      <td>FINANCING OF ASPOCOMP 'S GROWTH Aspocomp is ag...</td>\n",
       "    </tr>\n",
       "    <tr>\n",
       "      <th>...</th>\n",
       "      <td>...</td>\n",
       "      <td>...</td>\n",
       "    </tr>\n",
       "    <tr>\n",
       "      <th>4846</th>\n",
       "      <td>negative</td>\n",
       "      <td>The cryptocurrency Ripple (XRP) aims to provid...</td>\n",
       "    </tr>\n",
       "    <tr>\n",
       "      <th>4847</th>\n",
       "      <td>neutral</td>\n",
       "      <td>The Investing Club holds its Morning Meeting e...</td>\n",
       "    </tr>\n",
       "    <tr>\n",
       "      <th>4848</th>\n",
       "      <td>positive</td>\n",
       "      <td>In this article, we will take a look at the 13...</td>\n",
       "    </tr>\n",
       "    <tr>\n",
       "      <th>4849</th>\n",
       "      <td>neutral</td>\n",
       "      <td>Pro Research: Wall Street dives into Enphase E...</td>\n",
       "    </tr>\n",
       "    <tr>\n",
       "      <th>4850</th>\n",
       "      <td>positive</td>\n",
       "      <td>Pro Research: Wall Street eyes Alphabet's robu...</td>\n",
       "    </tr>\n",
       "  </tbody>\n",
       "</table>\n",
       "<p>4851 rows × 2 columns</p>\n",
       "</div>"
      ],
      "text/plain": [
       "        labels                                        description\n",
       "0      neutral  Technopolis plans to develop in stages an area...\n",
       "1     negative  The international electronic industry company ...\n",
       "2     positive  With the new production plant the company woul...\n",
       "3     positive  According to the company 's updated strategy f...\n",
       "4     positive  FINANCING OF ASPOCOMP 'S GROWTH Aspocomp is ag...\n",
       "...        ...                                                ...\n",
       "4846  negative  The cryptocurrency Ripple (XRP) aims to provid...\n",
       "4847   neutral  The Investing Club holds its Morning Meeting e...\n",
       "4848  positive  In this article, we will take a look at the 13...\n",
       "4849   neutral  Pro Research: Wall Street dives into Enphase E...\n",
       "4850  positive  Pro Research: Wall Street eyes Alphabet's robu...\n",
       "\n",
       "[4851 rows x 2 columns]"
      ]
     },
     "execution_count": 13,
     "metadata": {},
     "output_type": "execute_result"
    }
   ],
   "source": [
    "#merging database data with API data to make the model better to generalizing when its presented with not such good data\n",
    "import pandas as pd\n",
    "\n",
    "merged_df = pd.merge(df_all, df, on=['description', 'labels'], how='outer')\n",
    "merged_df"
   ]
  },
  {
   "cell_type": "code",
   "execution_count": 15,
   "metadata": {},
   "outputs": [
    {
     "name": "stdout",
     "output_type": "stream",
     "text": [
      "        labels                                        description\n",
      "4845  negative  NEW YORK, Nov.  21, 2023  (GLOBE NEWSWIRE) -- ...\n",
      "4846  negative  The cryptocurrency Ripple (XRP) aims to provid...\n",
      "4847   neutral  The Investing Club holds its Morning Meeting e...\n",
      "4848  positive  In this article, we will take a look at the 13...\n",
      "4849   neutral  Pro Research: Wall Street dives into Enphase E...\n",
      "4850  positive  Pro Research: Wall Street eyes Alphabet's robu...\n"
     ]
    }
   ],
   "source": [
    "#checking the API data was added \n",
    "last_three_rows = merged_df.tail(6)\n",
    "print(last_three_rows)"
   ]
  },
  {
   "cell_type": "code",
   "execution_count": 16,
   "metadata": {},
   "outputs": [],
   "source": [
    "#deleting the names of the columns, so we can do the preprocessing later in the model and add new names\n",
    "merged_df.columns = ['', '']\n",
    "\n",
    "merged_df.head()\n",
    "merged_df.to_csv('/Users/mariaeusse/MEH/Clases/Fall-2023/Ds-ML/Final_Project/Model_US/API-data/API_data.csv', index=False)"
   ]
  },
  {
   "cell_type": "code",
   "execution_count": null,
   "metadata": {},
   "outputs": [],
   "source": []
  }
 ],
 "metadata": {
  "kernelspec": {
   "display_name": "Python 3",
   "language": "python",
   "name": "python3"
  },
  "language_info": {
   "codemirror_mode": {
    "name": "ipython",
    "version": 3
   },
   "file_extension": ".py",
   "mimetype": "text/x-python",
   "name": "python",
   "nbconvert_exporter": "python",
   "pygments_lexer": "ipython3",
   "version": "3.8.5"
  }
 },
 "nbformat": 4,
 "nbformat_minor": 2
}
